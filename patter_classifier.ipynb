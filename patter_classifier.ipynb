{
 "cells": [
  {
   "metadata": {
    "ExecuteTime": {
     "end_time": "2025-06-16T11:21:09.906811Z",
     "start_time": "2025-06-16T11:21:09.903986Z"
    }
   },
   "cell_type": "code",
   "source": [
    "import numpy as np\n",
    "import numpy.typing as npt"
   ],
   "id": "92d1c0f6776ba3c3",
   "outputs": [],
   "execution_count": 262
  },
  {
   "metadata": {
    "ExecuteTime": {
     "end_time": "2025-06-16T11:21:09.926846Z",
     "start_time": "2025-06-16T11:21:09.923799Z"
    }
   },
   "cell_type": "code",
   "source": [
    "from PIL import Image\n",
    "import os\n",
    "\n",
    "class_names = ['uniform', 'horizontal', 'vertical', 'diagonal']\n",
    "class_index = {name: i for i, name in enumerate(class_names)}\n",
    "\n",
    "\n",
    "def load_dataset(folder_path: str) -> tuple[npt.NDArray, npt.NDArray]:\n",
    "    X, y = [], []\n",
    "    for filename in os.listdir(folder_path):\n",
    "        if filename.lower().endswith('.jpeg'):\n",
    "            path = os.path.join(folder_path, filename)\n",
    "            class_name = filename.split('_')[0]\n",
    "            img = Image.open(path)\n",
    "            normalized_img = np.asarray(img, dtype=np.float32) / 255.0\n",
    "            X.append(normalized_img.flatten())\n",
    "            y.append(np.eye(len(class_names))[class_index[class_name]])\n",
    "\n",
    "    return np.array(X), np.array(y)\n",
    "\n"
   ],
   "id": "9cb7c6d2baff42cc",
   "outputs": [],
   "execution_count": 263
  },
  {
   "metadata": {
    "ExecuteTime": {
     "end_time": "2025-06-16T11:21:09.937396Z",
     "start_time": "2025-06-16T11:21:09.934519Z"
    }
   },
   "cell_type": "code",
   "source": [
    "def sigmoid(z: npt.NDArray) -> npt.NDArray:\n",
    "    return 1 / (1 + np.exp(-z))\n",
    "\n",
    "\n",
    "def sigmoid_derivative(z: npt.NDArray) -> npt.NDArray:\n",
    "    sig = sigmoid(z)\n",
    "    return sig * (1 - sigmoid(z))\n",
    "\n",
    "\n",
    "def softmax(z: npt.NDArray) -> npt.NDArray:\n",
    "    z = np.array(z)\n",
    "    exp_z = np.exp(z - np.max(z))\n",
    "    return exp_z / np.sum(exp_z)\n",
    "\n",
    "\n",
    "def relu(z: npt.NDArray) -> npt.NDArray:\n",
    "    return np.maximum(0, z)\n",
    "\n",
    "\n",
    "def relu_derivative(z: npt.NDArray) -> npt.NDArray:\n",
    "    return (z > 0).astype(float)"
   ],
   "id": "683854aa74c10d58",
   "outputs": [],
   "execution_count": 264
  },
  {
   "metadata": {
    "ExecuteTime": {
     "end_time": "2025-06-16T11:21:09.946451Z",
     "start_time": "2025-06-16T11:21:09.943378Z"
    }
   },
   "cell_type": "code",
   "source": [
    "def cross_entropy(y_pred: npt.NDArray, y_target: npt.NDArray) -> float:\n",
    "    return -np.sum(y_target * np.log(y_pred + 1e-15))"
   ],
   "id": "16447d2b3578bf83",
   "outputs": [],
   "execution_count": 265
  },
  {
   "metadata": {
    "ExecuteTime": {
     "end_time": "2025-06-16T11:21:09.957449Z",
     "start_time": "2025-06-16T11:21:09.954920Z"
    }
   },
   "cell_type": "code",
   "source": [
    "class Layer:\n",
    "    def __init__(self, input_dim: int, units: int, activation, activation_deriv):\n",
    "        self.activation = activation\n",
    "        self.activation_deriv = activation_deriv\n",
    "        self.W = np.random.rand(units, input_dim) * 0.1\n",
    "        self.b = np.zeros((units, 1))\n",
    "\n",
    "    def forward(self, x: npt.NDArray) -> npt.NDArray:\n",
    "        self.x = x\n",
    "        self.z = self.W @ x + self.b\n",
    "        self.a = self.activation(self.z)\n",
    "\n",
    "        return self.a\n",
    "\n",
    "    def backward(self, grad_output: npt.NDArray, learning_rate: float) -> npt.NDArray:\n",
    "        dz = grad_output * self.activation_deriv(self.z)\n",
    "        dW = dz @ self.x.T\n",
    "        db = dz\n",
    "        dx = self.W.T @ dz\n",
    "        self.W -= learning_rate * dW\n",
    "        self.b -= learning_rate * db\n",
    "\n",
    "        return dx\n"
   ],
   "id": "11172fb8618195fb",
   "outputs": [],
   "execution_count": 266
  },
  {
   "metadata": {
    "ExecuteTime": {
     "end_time": "2025-06-16T11:21:09.967320Z",
     "start_time": "2025-06-16T11:21:09.963594Z"
    }
   },
   "cell_type": "code",
   "source": [
    "class NeuralNetwork:\n",
    "    def __init__(self, layers: list[Layer]):\n",
    "        self.layers = layers\n",
    "\n",
    "    def forward(self, x: npt.NDArray) -> npt.NDArray:\n",
    "        for layer in self.layers:\n",
    "            x = layer.forward(x)\n",
    "\n",
    "        return x\n",
    "\n",
    "    def backward(self, grad_output: npt.NDArray, learning_rate: float) -> None:\n",
    "        for layer in reversed(self.layers):\n",
    "            grad_output = layer.backward(grad_output, learning_rate)\n",
    "\n",
    "    def train(self, x_train: npt.NDArray, y_train: npt.NDArray, epochs: int, learning_rate: float) -> None:\n",
    "        for epoch in range(epochs):\n",
    "            total_loss: float = 0.\n",
    "\n",
    "            for x, y in zip(x_train, y_train):\n",
    "                # Reshaping to column vector.\n",
    "                x: npt.NDArray = x.reshape(-1, 1)\n",
    "                y: npt.NDArray = y.reshape(-1, 1)\n",
    "                # Forward pass\n",
    "                output = self.forward(x)\n",
    "                # Loss\n",
    "                loss = cross_entropy(output, y)\n",
    "                total_loss += loss\n",
    "                # Backpropagation\n",
    "                grad_output = output - y\n",
    "                self.backward(grad_output, learning_rate)\n",
    "\n",
    "            if epoch % 100 == 0 or epoch + 1 == epochs:\n",
    "                print(f\"Epoch {epoch}: loss = {total_loss}\")\n",
    "\n",
    "    def predict(self, x: npt.NDArray) -> npt.NDArray:\n",
    "        x = x.reshape(-1, 1)\n",
    "        output = self.forward(x)\n",
    "        return output"
   ],
   "id": "cbc114890cf3823e",
   "outputs": [],
   "execution_count": 267
  },
  {
   "metadata": {
    "ExecuteTime": {
     "end_time": "2025-06-16T11:21:10.158761Z",
     "start_time": "2025-06-16T11:21:09.973057Z"
    }
   },
   "cell_type": "code",
   "source": [
    "X, y = load_dataset('./dataset')\n",
    "\n",
    "test_ratio = 0.2\n",
    "num_samples = X.shape[0]\n",
    "num_test = int(num_samples * test_ratio)\n",
    "\n",
    "indices = np.random.permutation(num_samples)\n",
    "\n",
    "test_idx = indices[:num_test]\n",
    "train_idx = indices[num_test:]\n",
    "\n",
    "X_train = X[train_idx]\n",
    "y_train = y[train_idx]\n",
    "X_test = X[test_idx]\n",
    "y_test = y[test_idx]"
   ],
   "id": "a399271f2c863854",
   "outputs": [],
   "execution_count": 268
  },
  {
   "metadata": {
    "ExecuteTime": {
     "end_time": "2025-06-16T11:22:30.323683Z",
     "start_time": "2025-06-16T11:21:10.174594Z"
    }
   },
   "cell_type": "code",
   "source": [
    "layers_sigmoid = [\n",
    "    Layer(4, 4, sigmoid, sigmoid_derivative),\n",
    "    Layer(4, 4, sigmoid, sigmoid_derivative),\n",
    "    Layer(4, 4, softmax, lambda x: 1)\n",
    "]\n",
    "\n",
    "layers_relu = [\n",
    "    Layer(4, 6, relu, relu_derivative),\n",
    "    Layer(6, 4, relu, relu_derivative),\n",
    "    Layer(4, 4, softmax, lambda x: 1)\n",
    "]\n",
    "\n",
    "nn = NeuralNetwork(layers_relu)\n",
    "nn.train(X_train, y_train, 1000, 0.01)\n"
   ],
   "id": "77803cbc83c72170",
   "outputs": [
    {
     "name": "stdout",
     "output_type": "stream",
     "text": [
      "Epoch 0: loss = 4444.185650725837\n",
      "Epoch 100: loss = 3305.5974972951885\n",
      "Epoch 200: loss = 180.75964856276218\n",
      "Epoch 300: loss = 76.35309726345228\n",
      "Epoch 400: loss = 54.37207604235278\n",
      "Epoch 500: loss = 41.88661185815481\n",
      "Epoch 600: loss = 55.653857159640914\n",
      "Epoch 700: loss = 51.69390524101839\n",
      "Epoch 800: loss = 26.62681756618174\n",
      "Epoch 900: loss = 33.68742152318735\n",
      "Epoch 999: loss = 27.64462880544681\n"
     ]
    }
   ],
   "execution_count": 269
  },
  {
   "metadata": {
    "ExecuteTime": {
     "end_time": "2025-06-16T11:26:31.951872Z",
     "start_time": "2025-06-16T11:26:31.910293Z"
    }
   },
   "cell_type": "code",
   "source": [
    "import matplotlib.pyplot as plt\n",
    "from PIL import Image\n",
    "\n",
    "rand_sample = np.random.randint(0, X_test.shape[0])\n",
    "sample_class = class_names[np.argmax(y_test[rand_sample])]\n",
    "sample_img = Image.fromarray(X_test[rand_sample].reshape((2, 2)) * 255.0)\n",
    "\n",
    "output = nn.predict(X_test[rand_sample])\n",
    "pred_class = class_names[np.argmax(output)]\n",
    "confidence = output[np.argmax(output)].item()\n",
    "\n",
    "plt.imshow(sample_img, cmap='grey', vmin=0, vmax=255)\n",
    "plt.title(f'Target pattern: {sample_class}', fontsize=15)\n",
    "plt.text(0.5, 1.6, f'Predicted pattern:\\n{pred_class} {confidence:.5f}', fontsize=15, ha='center', va='top')\n",
    "plt.axis('off')\n",
    "plt.show()"
   ],
   "id": "61cffd7851ef4103",
   "outputs": [
    {
     "data": {
      "text/plain": [
       "<Figure size 640x480 with 1 Axes>"
      ],
      "image/png": "[encoded data removed]"
     },
     "metadata": {},
     "output_type": "display_data"
    }
   ],
   "execution_count": 283
  },
  {
   "metadata": {
    "ExecuteTime": {
     "end_time": "2025-06-16T11:22:30.383156Z",
     "start_time": "2025-06-16T11:22:30.369639Z"
    }
   },
   "cell_type": "code",
   "source": [
    "def accuracy(model, X: npt.NDArray, y):\n",
    "    correct = 0\n",
    "    total = X.shape[0]\n",
    "\n",
    "    for x, target in zip(X, y):\n",
    "        output = model.predict(x)\n",
    "        predicted_class = np.argmax(output)\n",
    "        target_class = np.argmax(target)\n",
    "        if predicted_class == target_class:\n",
    "            correct += 1\n",
    "\n",
    "    return correct / total\n",
    "\n",
    "\n",
    "print(accuracy(nn, X_test, y_test))"
   ],
   "id": "31e4d8f7a77e92f9",
   "outputs": [
    {
     "name": "stdout",
     "output_type": "stream",
     "text": [
      "0.9925\n"
     ]
    }
   ],
   "execution_count": 271
  },
  {
   "metadata": {
    "ExecuteTime": {
     "end_time": "2025-06-16T11:22:30.405898Z",
     "start_time": "2025-06-16T11:22:30.391126Z"
    }
   },
   "cell_type": "code",
   "source": [
    "def precision(model, X, y, n_classes):\n",
    "    tp = np.zeros(n_classes)\n",
    "    tf = np.zeros(n_classes)\n",
    "\n",
    "    for x, target in zip(X, y):\n",
    "        output = model.predict(x)\n",
    "        y_pred = np.argmax(output)\n",
    "        y_target = np.argmax(target)\n",
    "\n",
    "        if y_pred == y_target:\n",
    "            tp[y_pred] += 1\n",
    "        else:\n",
    "            tf[y_pred] += 1\n",
    "\n",
    "    precision: list[float] = []\n",
    "\n",
    "    for i in range(n_classes):\n",
    "        if tp[i] + tf[i] == 0:\n",
    "            precision.append(0.0)\n",
    "        else:\n",
    "            precision.append(float(tp[i] / (tp[i] + tf[i])))\n",
    "\n",
    "    return precision\n",
    "\n",
    "\n",
    "print(precision(nn, X_test, y_test, 4))"
   ],
   "id": "b66dc0d571e29685",
   "outputs": [
    {
     "name": "stdout",
     "output_type": "stream",
     "text": [
      "[0.9942857142857143, 0.9913419913419913, 0.9854368932038835, 1.0]\n"
     ]
    }
   ],
   "execution_count": 272
  },
  {
   "metadata": {},
   "cell_type": "code",
   "outputs": [],
   "execution_count": null,
   "source": [
    "def confusion_matrix(model, X, y, n_classes):\n",
    "    ..."
   ],
   "id": "ec8c5873bd986f57"
  }
 ],
 "metadata": {
  "kernelspec": {
   "display_name": "Python 3",
   "language": "python",
   "name": "python3"
  },
  "language_info": {
   "codemirror_mode": {
    "name": "ipython",
    "version": 2
   },
   "file_extension": ".py",
   "mimetype": "text/x-python",
   "name": "python",
   "nbconvert_exporter": "python",
   "pygments_lexer": "ipython2",
   "version": "2.7.6"
  }
 },
 "nbformat": 4,
 "nbformat_minor": 5
}
