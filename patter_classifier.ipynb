{
 "cells": [
  {
   "metadata": {},
   "cell_type": "markdown",
   "source": "# Pattern classifier neural network",
   "id": "8bd1a9a7a36f3b81"
  },
  {
   "metadata": {
    "ExecuteTime": {
     "end_time": "2025-06-18T13:50:47.963181Z",
     "start_time": "2025-06-18T13:50:47.961425Z"
    }
   },
   "cell_type": "code",
   "source": [
    "import numpy as np\n",
    "import numpy.typing as npt\n",
    "import matplotlib.pyplot as plt\n",
    "from PIL import Image"
   ],
   "id": "92d1c0f6776ba3c3",
   "outputs": [],
   "execution_count": 200
  },
  {
   "metadata": {},
   "cell_type": "markdown",
   "source": "## Model structure",
   "id": "dbc3f18941c4461b"
  },
  {
   "metadata": {},
   "cell_type": "markdown",
   "source": "### Activation functions",
   "id": "5110fc5c3f13ebae"
  },
  {
   "metadata": {
    "ExecuteTime": {
     "end_time": "2025-06-18T13:50:47.977885Z",
     "start_time": "2025-06-18T13:50:47.975753Z"
    }
   },
   "cell_type": "code",
   "source": [
    "def softmax(z: npt.NDArray) -> npt.NDArray:\n",
    "    z = np.array(z)\n",
    "    exp_z = np.exp(z - np.max(z))\n",
    "    return exp_z / np.sum(exp_z)\n",
    "\n",
    "\n",
    "def relu(z: npt.NDArray) -> npt.NDArray:\n",
    "    return np.maximum(0, z)\n",
    "\n",
    "\n",
    "def relu_derivative(z: npt.NDArray) -> npt.NDArray:\n",
    "    return (z > 0).astype(float)"
   ],
   "id": "683854aa74c10d58",
   "outputs": [],
   "execution_count": 201
  },
  {
   "metadata": {},
   "cell_type": "markdown",
   "source": "### Loss function",
   "id": "b317b25792756363"
  },
  {
   "metadata": {
    "ExecuteTime": {
     "end_time": "2025-06-18T13:50:47.983507Z",
     "start_time": "2025-06-18T13:50:47.981910Z"
    }
   },
   "cell_type": "code",
   "source": [
    "def cross_entropy(y_pred: npt.NDArray, y_target: npt.NDArray) -> float:\n",
    "    return -np.sum(y_target * np.log(y_pred + 1e-15))"
   ],
   "id": "16447d2b3578bf83",
   "outputs": [],
   "execution_count": 202
  },
  {
   "metadata": {},
   "cell_type": "markdown",
   "source": "### Layer",
   "id": "eff287b8bbf2ac0d"
  },
  {
   "metadata": {
    "ExecuteTime": {
     "end_time": "2025-06-18T13:50:47.993498Z",
     "start_time": "2025-06-18T13:50:47.990199Z"
    }
   },
   "cell_type": "code",
   "source": [
    "class Layer:\n",
    "    def __init__(self, input_dim: int, units: int, activation, activation_deriv):\n",
    "        self.activation = activation\n",
    "        self.activation_deriv = activation_deriv\n",
    "        # self.W = np.random.rand(units, input_dim) * 0.1\n",
    "        #self.W = np.random.randn(units, input_dim) * np.sqrt(2. / input_dim)\n",
    "        self.W = np.random.normal(0, np.sqrt(2. / input_dim), (units, input_dim))\n",
    "        self.b = np.zeros((units, 1))\n",
    "\n",
    "    def forward(self, x: npt.NDArray) -> npt.NDArray:\n",
    "        self.x = x\n",
    "        self.z = self.W @ x + self.b\n",
    "        self.a = self.activation(self.z)\n",
    "\n",
    "        return self.a\n",
    "\n",
    "    def backward(self, grad_output: npt.NDArray, learning_rate: float) -> npt.NDArray:\n",
    "        dz = grad_output * self.activation_deriv(self.z)\n",
    "        dW = dz @ self.x.T\n",
    "        db = dz\n",
    "        dx = self.W.T @ dz\n",
    "        self.W -= learning_rate * dW\n",
    "        self.b -= learning_rate * db\n",
    "\n",
    "        return dx\n"
   ],
   "id": "11172fb8618195fb",
   "outputs": [],
   "execution_count": 203
  },
  {
   "metadata": {},
   "cell_type": "markdown",
   "source": "### Neural Network",
   "id": "a46a2bc407aa3040"
  },
  {
   "metadata": {
    "ExecuteTime": {
     "end_time": "2025-06-18T13:50:48.005252Z",
     "start_time": "2025-06-18T13:50:48.000153Z"
    }
   },
   "cell_type": "code",
   "source": [
    "class NeuralNetwork:\n",
    "\n",
    "    def __init__(self, layers: list[Layer]):\n",
    "        self.layers = layers\n",
    "\n",
    "    def forward(self, x: npt.NDArray) -> npt.NDArray:\n",
    "        for layer in self.layers:\n",
    "            x = layer.forward(x)\n",
    "\n",
    "        return x\n",
    "\n",
    "    def backward(self, grad_output: npt.NDArray, learning_rate: float) -> None:\n",
    "        for layer in reversed(self.layers):\n",
    "            grad_output = layer.backward(grad_output, learning_rate)\n",
    "\n",
    "    def train(\n",
    "            self,\n",
    "            x_train: npt.NDArray,\n",
    "            y_train: npt.NDArray,\n",
    "            x_val: npt.NDArray,\n",
    "            y_val: npt.NDArray,\n",
    "            epochs: int,\n",
    "            learning_rate: float) -> tuple[list[float], list[float]]:\n",
    "        train_losses: list[float] = []\n",
    "        val_losses: list[float] = []\n",
    "        best_val_loss = float('inf')\n",
    "        patience = 30\n",
    "        min_delta = 0.00001\n",
    "        patience_counter = 0\n",
    "        best_weights = None\n",
    "\n",
    "        for epoch in range(epochs):\n",
    "            train_loss: float = 0.0\n",
    "            for x, y in zip(x_train, y_train):\n",
    "                # Reshaping to column vector.\n",
    "                x: npt.NDArray = x.reshape(-1, 1)\n",
    "                y: npt.NDArray = y.reshape(-1, 1)\n",
    "                # Forward pass\n",
    "                output = self.forward(x)\n",
    "                # Loss\n",
    "                train_loss += cross_entropy(output, y)\n",
    "                # Backpropagation\n",
    "                grad_output = output - y\n",
    "                self.backward(grad_output, learning_rate)\n",
    "\n",
    "            train_losses.append(float(train_loss) / len(y_train))\n",
    "\n",
    "            val_loss = 0.0\n",
    "            for x, y in zip(x_val, y_val):\n",
    "                # Reshaping to column vector.\n",
    "                x: npt.NDArray = x.reshape(-1, 1)\n",
    "                y: npt.NDArray = y.reshape(-1, 1)\n",
    "\n",
    "                output = self.forward(x)\n",
    "                val_loss += cross_entropy(output, y)\n",
    "\n",
    "            val_loss /= len(y_val)\n",
    "            val_losses.append(float(val_loss))\n",
    "\n",
    "            if best_val_loss - val_loss > min_delta:\n",
    "                best_val_loss = val_loss\n",
    "                patience_counter = 0\n",
    "                best_weights = [(layer.W.copy(), layer.b.copy()) for layer in self.layers]\n",
    "            else:\n",
    "                patience_counter += 1\n",
    "\n",
    "            if epoch % 100 == 0 or epoch + 1 == epochs:\n",
    "                print(f\"Epoch {epoch}: train_loss = {train_losses[-1]:.5f}, val_loss = {val_losses[-1]:.5f}\")\n",
    "\n",
    "            if patience_counter >= patience:\n",
    "                print(f'Early stopping at {epoch} epoch')\n",
    "                break\n",
    "\n",
    "        if best_weights:\n",
    "            for layer, (W, b) in zip(self.layers, best_weights):\n",
    "                layer.W = W\n",
    "                layer.b = b\n",
    "\n",
    "        return train_losses, val_losses\n",
    "\n",
    "    def predict(self, x: npt.NDArray) -> npt.NDArray:\n",
    "        x = x.reshape(-1, 1)\n",
    "        output = self.forward(x)\n",
    "        return output"
   ],
   "id": "cbc114890cf3823e",
   "outputs": [],
   "execution_count": 204
  },
  {
   "metadata": {},
   "cell_type": "markdown",
   "source": "## Training",
   "id": "247704cd29e7c137"
  },
  {
   "metadata": {
    "ExecuteTime": {
     "end_time": "2025-06-18T13:50:48.016125Z",
     "start_time": "2025-06-18T13:50:48.013494Z"
    }
   },
   "cell_type": "code",
   "source": [
    "import os\n",
    "\n",
    "class_names = ['uniform', 'horizontal', 'vertical', 'diagonal']\n",
    "class_index = {name: i for i, name in enumerate(class_names)}\n",
    "\n",
    "\n",
    "def load_dataset(folder_path: str) -> tuple[npt.NDArray, npt.NDArray]:\n",
    "    X, y = [], []\n",
    "    for filename in os.listdir(folder_path):\n",
    "        if filename.lower().endswith('.jpeg'):\n",
    "            path = os.path.join(folder_path, filename)\n",
    "            class_name = filename.split('_')[0]\n",
    "            img = Image.open(path)\n",
    "            normalized_img = np.asarray(img, dtype=np.float32) / 255.0\n",
    "            X.append(normalized_img.flatten())\n",
    "            y.append(np.eye(len(class_names))[class_index[class_name]])\n",
    "\n",
    "    return np.array(X), np.array(y)"
   ],
   "id": "a07625d52c2876c3",
   "outputs": [],
   "execution_count": 205
  },
  {
   "metadata": {
    "ExecuteTime": {
     "end_time": "2025-06-18T13:50:48.853497Z",
     "start_time": "2025-06-18T13:50:48.029222Z"
    }
   },
   "cell_type": "code",
   "source": [
    "X, y = load_dataset('./dataset')\n",
    "\n",
    "test_ratio = 0.2\n",
    "val_ratio = 0.1\n",
    "num_samples = X.shape[0]\n",
    "\n",
    "num_val = int(num_samples * val_ratio)\n",
    "num_test = int(num_samples * test_ratio)\n",
    "\n",
    "indices = np.random.permutation(num_samples)\n",
    "\n",
    "val_idx = indices[:num_val]\n",
    "test_idx = indices[num_val:num_val + num_test]\n",
    "train_idx = indices[num_val + num_test:]\n",
    "\n",
    "X_train, y_train = X[train_idx], y[train_idx]\n",
    "X_val, y_val = X[val_idx], y[val_idx]\n",
    "X_test, y_test = X[test_idx], y[test_idx]"
   ],
   "id": "a399271f2c863854",
   "outputs": [],
   "execution_count": 206
  },
  {
   "metadata": {
    "ExecuteTime": {
     "end_time": "2025-06-18T13:51:13.274666Z",
     "start_time": "2025-06-18T13:50:48.861462Z"
    }
   },
   "cell_type": "code",
   "source": [
    "layers = [\n",
    "    Layer(4, 6, relu, relu_derivative),\n",
    "    Layer(6, 6, relu, relu_derivative),\n",
    "    Layer(6, 4, softmax, lambda x: 1)\n",
    "]\n",
    "\n",
    "nn = NeuralNetwork(layers)\n",
    "train_loss, val_loss = nn.train(X_train, y_train, X_val, y_val, 1000, 0.01)\n"
   ],
   "id": "77803cbc83c72170",
   "outputs": [
    {
     "name": "stdout",
     "output_type": "stream",
     "text": [
      "Epoch 0: train_loss = 0.77893, val_loss = 0.39170\n",
      "Epoch 100: train_loss = 0.00196, val_loss = 0.00263\n",
      "Early stopping at 161 epoch\n"
     ]
    },
    {
     "data": {
      "text/plain": [
       "<Figure size 640x480 with 1 Axes>"
      ],
      "image/png": "[encoded data removed]"
     },
     "metadata": {},
     "output_type": "display_data"
    }
   ],
   "execution_count": 207
  },
  {
   "metadata": {
    "ExecuteTime": {
     "end_time": "2025-06-18T13:51:13.283776Z",
     "start_time": "2025-06-18T13:51:13.282250Z"
    }
   },
   "cell_type": "code",
   "source": [
    "plt.plot(train_loss, label='train loss')\n",
    "plt.plot(val_loss, label='validation loss', linestyle='--')\n",
    "plt.legend()\n",
    "plt.show()"
   ],
   "id": "f9de75c0f6a14d77",
   "outputs": [],
   "execution_count": null
  },
  {
   "metadata": {
    "ExecuteTime": {
     "end_time": "2025-06-18T13:51:13.341276Z",
     "start_time": "2025-06-18T13:51:13.311683Z"
    }
   },
   "cell_type": "code",
   "source": [
    "rand_sample = np.random.randint(0, X_test.shape[0])\n",
    "sample_class = class_names[np.argmax(y_test[rand_sample])]\n",
    "sample_img = Image.fromarray(X_test[rand_sample].reshape((2, 2)) * 255.0)\n",
    "\n",
    "output = nn.predict(X_test[rand_sample])\n",
    "pred_class = class_names[np.argmax(output)]\n",
    "confidence = output[np.argmax(output)].item()\n",
    "\n",
    "plt.imshow(sample_img, cmap='grey', vmin=0, vmax=255)\n",
    "plt.title(f'Target pattern: {sample_class}', fontsize=15)\n",
    "plt.text(0.5, 1.6, f'Predicted pattern:\\n{pred_class} {confidence:.5f}', fontsize=15, ha='center', va='top')\n",
    "plt.axis('off')\n",
    "plt.show()"
   ],
   "id": "61cffd7851ef4103",
   "outputs": [
    {
     "data": {
      "text/plain": [
       "<Figure size 640x480 with 1 Axes>"
      ],
      "image/png": "[encoded data removed]"
     },
     "metadata": {},
     "output_type": "display_data"
    }
   ],
   "execution_count": 208
  },
  {
   "metadata": {},
   "cell_type": "markdown",
   "source": "## Evaluation Metrics",
   "id": "86ecf5c63c26c762"
  },
  {
   "metadata": {
    "ExecuteTime": {
     "end_time": "2025-06-18T13:51:13.377466Z",
     "start_time": "2025-06-18T13:51:13.352073Z"
    }
   },
   "cell_type": "code",
   "source": [
    "def accuracy(model: NeuralNetwork, X: npt.NDArray, y: npt.NDArray) -> float:\n",
    "    correct: int = 0\n",
    "    total = X.shape[0]\n",
    "\n",
    "    for x, target in zip(X, y):\n",
    "        output = model.predict(x)\n",
    "        predicted_class = np.argmax(output)\n",
    "        target_class = np.argmax(target)\n",
    "        if predicted_class == target_class:\n",
    "            correct += 1\n",
    "\n",
    "    return correct / total\n",
    "\n",
    "\n",
    "print(f'Accuracy: {accuracy(nn, X_test, y_test)}')"
   ],
   "id": "31e4d8f7a77e92f9",
   "outputs": [
    {
     "name": "stdout",
     "output_type": "stream",
     "text": [
      "Accuracy: 1.0\n"
     ]
    }
   ],
   "execution_count": 209
  },
  {
   "metadata": {
    "ExecuteTime": {
     "end_time": "2025-06-18T13:51:13.414342Z",
     "start_time": "2025-06-18T13:51:13.389968Z"
    }
   },
   "cell_type": "code",
   "source": [
    "def precision(model: NeuralNetwork, X: npt.NDArray, y: npt.NDArray, n_classes: int) -> list[float]:\n",
    "    tp = np.zeros(n_classes)\n",
    "    tf = np.zeros(n_classes)\n",
    "\n",
    "    for x, target in zip(X, y):\n",
    "        output = model.predict(x)\n",
    "        y_pred = np.argmax(output)\n",
    "        y_target = np.argmax(target)\n",
    "\n",
    "        if y_pred == y_target:\n",
    "            tp[y_pred] += 1\n",
    "        else:\n",
    "            tf[y_pred] += 1\n",
    "\n",
    "    precision: list[float] = []\n",
    "\n",
    "    for i in range(n_classes):\n",
    "        if tp[i] + tf[i] == 0:\n",
    "            precision.append(0.0)\n",
    "        else:\n",
    "            precision.append(float(tp[i] / (tp[i] + tf[i])))\n",
    "\n",
    "    return precision\n",
    "\n",
    "\n",
    "print(f'Precision: {precision(nn, X_test, y_test, 4)}')"
   ],
   "id": "b66dc0d571e29685",
   "outputs": [
    {
     "name": "stdout",
     "output_type": "stream",
     "text": [
      "Precision: [1.0, 1.0, 1.0, 1.0]\n"
     ]
    }
   ],
   "execution_count": 210
  },
  {
   "metadata": {},
   "cell_type": "markdown",
   "source": "### Confusion matrix",
   "id": "6959f61574fc487d"
  },
  {
   "metadata": {
    "ExecuteTime": {
     "end_time": "2025-06-18T13:51:13.450647Z",
     "start_time": "2025-06-18T13:51:13.425023Z"
    }
   },
   "cell_type": "code",
   "source": [
    "def confusion_matrix(model: NeuralNetwork, X: npt.NDArray, y: npt.NDArray, n_classes: int) -> npt.NDArray:\n",
    "    conf_matrix = np.zeros((n_classes, n_classes), dtype=int)\n",
    "\n",
    "    for x, target in zip(X, y):\n",
    "        output = model.predict(x)\n",
    "        y_pred = np.argmax(output)\n",
    "        y_target = np.argmax(target)\n",
    "\n",
    "        conf_matrix[y_target][y_pred] += 1\n",
    "\n",
    "    return conf_matrix\n",
    "\n",
    "\n",
    "cm = confusion_matrix(nn, X_test, y_test, 4)"
   ],
   "id": "ec8c5873bd986f57",
   "outputs": [],
   "execution_count": 211
  },
  {
   "metadata": {
    "ExecuteTime": {
     "end_time": "2025-06-18T13:51:13.523340Z",
     "start_time": "2025-06-18T13:51:13.459326Z"
    }
   },
   "cell_type": "code",
   "source": [
    "fig, ax = plt.subplots()\n",
    "im = ax.imshow(cm, cmap='viridis')\n",
    "\n",
    "ax.set_xticks(range(len(class_names)), labels=class_names)\n",
    "ax.set_yticks(range(len(class_names)), labels=class_names)\n",
    "\n",
    "for i in range(len(cm)):\n",
    "    for j in range(len(cm)):\n",
    "        text = ax.text(j, i, cm[i, j], ha='center', va='center', color='black')\n",
    "\n",
    "ax.set_title('Confusion matrix')\n",
    "ax.set_xlabel('predicted')\n",
    "ax.set_ylabel('target')\n",
    "fig.colorbar(im)\n",
    "plt.show()"
   ],
   "id": "d4947da1fd94dc55",
   "outputs": [
    {
     "data": {
      "text/plain": [
       "<Figure size 640x480 with 2 Axes>"
      ],
      "image/png": "[encoded data removed]"
     },
     "metadata": {},
     "output_type": "display_data"
    }
   ],
   "execution_count": 212
  }
 ],
 "metadata": {
  "kernelspec": {
   "display_name": "Python 3",
   "language": "python",
   "name": "python3"
  },
  "language_info": {
   "codemirror_mode": {
    "name": "ipython",
    "version": 2
   },
   "file_extension": ".py",
   "mimetype": "text/x-python",
   "name": "python",
   "nbconvert_exporter": "python",
   "pygments_lexer": "ipython2",
   "version": "2.7.6"
  }
 },
 "nbformat": 4,
 "nbformat_minor": 5
}
