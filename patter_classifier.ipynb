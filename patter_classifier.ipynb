{
 "cells": [
  {
   "metadata": {
    "ExecuteTime": {
     "end_time": "2025-06-14T19:41:22.178652Z",
     "start_time": "2025-06-14T19:41:22.176250Z"
    }
   },
   "cell_type": "code",
   "source": [
    "import numpy as np\n",
    "import numpy.typing as npt\n",
    "\n",
    "NPVector = npt.NDArray[np.float64]"
   ],
   "id": "92d1c0f6776ba3c3",
   "outputs": [],
   "execution_count": 21
  },
  {
   "metadata": {
    "ExecuteTime": {
     "end_time": "2025-06-14T19:41:22.188300Z",
     "start_time": "2025-06-14T19:41:22.185243Z"
    }
   },
   "cell_type": "code",
   "source": [
    "def sigmoid(z: NPVector) -> NPVector:\n",
    "    return 1 / (1 + np.exp(-z))\n",
    "\n",
    "\n",
    "def softmax(z: NPVector) -> NPVector:\n",
    "    z = np.array(z)\n",
    "    exp_z = np.exp(z - np.max(z))\n",
    "    return exp_z / np.sum(exp_z)\n",
    "\n",
    "\n",
    "def relu(z: NPVector) -> NPVector:\n",
    "    return np.maximum(0, z)"
   ],
   "id": "683854aa74c10d58",
   "outputs": [],
   "execution_count": 22
  },
  {
   "metadata": {
    "ExecuteTime": {
     "end_time": "2025-06-14T19:41:22.198919Z",
     "start_time": "2025-06-14T19:41:22.196410Z"
    }
   },
   "cell_type": "code",
   "source": [
    "class Layer:\n",
    "    def __init__(self, input_dim: int, units: int, activation):\n",
    "        self.activation = activation\n",
    "        self.W = np.random.rand(units, input_dim) * 0.1\n",
    "        self.b = np.zeros((units, 1))\n",
    "\n",
    "    def forward(self, x: NPVector) -> NPVector:\n",
    "        self.x = x\n",
    "        self.z = self.W @ x + self.b\n",
    "        self.a = self.activation(self.z)\n",
    "\n",
    "        return self.a\n",
    "\n",
    "    def backward(self):\n",
    "        ...\n"
   ],
   "id": "11172fb8618195fb",
   "outputs": [],
   "execution_count": 23
  },
  {
   "metadata": {
    "ExecuteTime": {
     "end_time": "2025-06-14T19:41:22.212678Z",
     "start_time": "2025-06-14T19:41:22.208563Z"
    }
   },
   "cell_type": "code",
   "source": [
    "class NeuralNetwork:\n",
    "    def __init__(self, layers: list[Layer]):\n",
    "        self.layers = layers\n",
    "\n",
    "    def forward(self, x: NPVector) -> NPVector:\n",
    "        for layer in self.layers:\n",
    "            x = layer.forward(x)\n",
    "\n",
    "        return x\n",
    "\n",
    "    def backward(self):\n",
    "        ...\n",
    "\n",
    "    def train(self):\n",
    "        ...\n",
    "\n",
    "    def predict(self):\n",
    "        ..."
   ],
   "id": "cbc114890cf3823e",
   "outputs": [],
   "execution_count": 24
  }
 ],
 "metadata": {
  "kernelspec": {
   "display_name": "Python 3",
   "language": "python",
   "name": "python3"
  },
  "language_info": {
   "codemirror_mode": {
    "name": "ipython",
    "version": 2
   },
   "file_extension": ".py",
   "mimetype": "text/x-python",
   "name": "python",
   "nbconvert_exporter": "python",
   "pygments_lexer": "ipython2",
   "version": "2.7.6"
  }
 },
 "nbformat": 4,
 "nbformat_minor": 5
}
