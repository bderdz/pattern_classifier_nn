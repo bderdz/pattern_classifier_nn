{
 "cells": [
  {
   "cell_type": "code",
   "id": "initial_id",
   "metadata": {
    "collapsed": true,
    "ExecuteTime": {
     "end_time": "2025-06-03T19:09:13.956517Z",
     "start_time": "2025-06-03T19:09:13.953272Z"
    }
   },
   "source": [
    "import random\n",
    "import numpy as np\n",
    "from PIL import Image\n",
    "import os"
   ],
   "outputs": [],
   "execution_count": 207
  },
  {
   "metadata": {
    "ExecuteTime": {
     "end_time": "2025-06-03T19:09:13.967845Z",
     "start_time": "2025-06-03T19:09:13.962946Z"
    }
   },
   "cell_type": "code",
   "source": [
    "DATASET_DIR: str = 'dataset'\n",
    "\n",
    "N_PATTERN_IMG = 80\n",
    "\n",
    "PATTERNS: dict[str: list[np.ndarray]] = {\n",
    "    'uniform': [\n",
    "        np.full((2, 2), 255),\n",
    "        np.zeros((2, 2))\n",
    "    ],\n",
    "    'horizontal': [\n",
    "        np.array([[255, 255], [0, 0]]),\n",
    "        np.array([[0, 0], [255, 255]]),\n",
    "    ],\n",
    "    'vertical': [\n",
    "        np.array([[255, 0], [255, 0]]),\n",
    "        np.array([[0, 255], [0, 255]]),\n",
    "    ],\n",
    "    'diagonal': [\n",
    "        np.array([[255, 0], [0, 255]]),\n",
    "        np.array([[0, 255], [255, 0]]),\n",
    "    ]\n",
    "}"
   ],
   "id": "cb3a1757ce86cd9a",
   "outputs": [],
   "execution_count": 208
  },
  {
   "metadata": {
    "ExecuteTime": {
     "end_time": "2025-06-03T19:09:14.053562Z",
     "start_time": "2025-06-03T19:09:13.976779Z"
    }
   },
   "cell_type": "code",
   "source": [
    "os.makedirs(DATASET_DIR, exist_ok=True)\n",
    "\n",
    "for label, patterns in PATTERNS.items():\n",
    "    for p_i, pattern in enumerate(patterns):\n",
    "        for i in range(N_PATTERN_IMG):\n",
    "            white: int = random.randint(155, 255)\n",
    "            black: int = random.randint(0, 100)\n",
    "\n",
    "            img: np.ndarray = np.where(pattern == 255, white, black)\n",
    "            noise = np.random.randint(-5, 6, (2, 2))\n",
    "            img = np.clip(img + noise, 0, 255)\n",
    "\n",
    "            filename = f'{label}_{p_i * N_PATTERN_IMG + i + 1}.jpeg'\n",
    "            path = os.path.join(DATASET_DIR, filename)\n",
    "            Image.fromarray(img.astype(np.uint8)).save(path)\n",
    "            "
   ],
   "id": "d0a41cabf87a9ae2",
   "outputs": [],
   "execution_count": 209
  },
  {
   "metadata": {},
   "cell_type": "markdown",
   "source": "# Dataset preview",
   "id": "1f5cb9bc3fde883d"
  },
  {
   "metadata": {
    "ExecuteTime": {
     "end_time": "2025-06-03T19:09:14.358181Z",
     "start_time": "2025-06-03T19:09:14.059342Z"
    }
   },
   "cell_type": "code",
   "source": [
    "import matplotlib.pyplot as plt\n",
    "\n",
    "preview_n = 10\n",
    "\n",
    "cols = 10\n",
    "rows = 4\n",
    "\n",
    "fig, axes = plt.subplots(rows, cols, figsize=(cols, rows))\n",
    "\n",
    "for row, label in enumerate(PATTERNS):\n",
    "    for col in range(cols):\n",
    "        sample_idx = random.randint(0, 1) * N_PATTERN_IMG + random.randint(1, N_PATTERN_IMG)\n",
    "        filename = f'{label}_{sample_idx}.jpeg'\n",
    "        path = os.path.join(DATASET_DIR, filename)\n",
    "\n",
    "        img = Image.open(path)\n",
    "        axes[row, col].imshow(img, cmap='gray', vmin=0, vmax=255)\n",
    "        axes[row, col].axis('off')\n",
    "\n",
    "fig.suptitle('Losowe próbki każdego wzorca z datasetu')\n",
    "plt.savefig('dataset_samples.png')\n",
    "plt.show()\n",
    "\n"
   ],
   "id": "1446b679b38cba74",
   "outputs": [
    {
     "data": {
      "text/plain": [
       "<Figure size 1000x400 with 40 Axes>"
      ],
      "image/png": "[encoded data removed]"
     },
     "metadata": {},
     "output_type": "display_data"
    }
   ],
   "execution_count": 210
  }
 ],
 "metadata": {
  "kernelspec": {
   "display_name": "Python 3",
   "language": "python",
   "name": "python3"
  },
  "language_info": {
   "codemirror_mode": {
    "name": "ipython",
    "version": 2
   },
   "file_extension": ".py",
   "mimetype": "text/x-python",
   "name": "python",
   "nbconvert_exporter": "python",
   "pygments_lexer": "ipython2",
   "version": "2.7.6"
  }
 },
 "nbformat": 4,
 "nbformat_minor": 5
}
